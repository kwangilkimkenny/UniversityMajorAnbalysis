{
 "cells": [
  {
   "cell_type": "code",
   "execution_count": 13,
   "metadata": {},
   "outputs": [],
   "source": [
    "import nltk\n",
    "import docx2txt\n",
    "import sys\n",
    "import glob\n",
    "import os"
   ]
  },
  {
   "cell_type": "code",
   "execution_count": 15,
   "metadata": {},
   "outputs": [],
   "source": [
    "#docx 문서들을 불러와서 txt 로 변환한다.\n",
    "txtdata = docx2txt.process(\"data/UniversityMajor/01_Harvard/HarvardCS40COMMUNITY-03.docx\") \n",
    "with open(\"data/UniversityMajor/01_Harvard/HarvardEssays2.txt\", \"w\", encoding='UTF8') as text_file:\n",
    "    print(txtdata, file=text_file)"
   ]
  },
  {
   "cell_type": "code",
   "execution_count": 20,
   "metadata": {},
   "outputs": [
    {
     "name": "stdout",
     "output_type": "stream",
     "text": [
      "['data/UniversityMajor/01_Harvard\\\\HarvardCS40COMMUNITY-03.docx', 'data/UniversityMajor/01_Harvard\\\\HarvardCS40CULTURE-07.docx', 'data/UniversityMajor/01_Harvard\\\\HarvardCS40EXPERIENCE-04.docx', 'data/UniversityMajor/01_Harvard\\\\HarvardCS40INTELLECTUAL-01.docx', 'data/UniversityMajor/01_Harvard\\\\HarvardCS40UNIQUE-02.docx', 'data/UniversityMajor/01_Harvard\\\\HarvardCS45Experience-06.docx', 'data/UniversityMajor/01_Harvard\\\\HarvardCS45INTELLECTUAL-05.docx', 'data/UniversityMajor/01_Harvard\\\\HarvardCS45INTELLECTUAL-06.docx', 'data/UniversityMajor/01_Harvard\\\\HarvardPS35P1-03.docx', 'data/UniversityMajor/01_Harvard\\\\HarvardPS35P2-02.docx', 'data/UniversityMajor/01_Harvard\\\\HarvardPS40P3-04.docx', 'data/UniversityMajor/01_Harvard\\\\HarvardPS40P5-1.docx', 'data/UniversityMajor/01_Harvard\\\\HarvardPS45P1-04.docx', 'data/UniversityMajor/01_Harvard\\\\HarvardPS45P1-05.docx', 'data/UniversityMajor/01_Harvard\\\\HarvardPS45P2-04.docx', 'data/UniversityMajor/01_Harvard\\\\HarvardPS45P2-05.docx']\n"
     ]
    }
   ],
   "source": [
    "#docx 문서들을 모두 불러와서 한 문서로 합친다.\n",
    "files = glob.glob(\"data/UniversityMajor/01_Harvard/*.docx\")#docx확장자를 가진 파일명을 모두 불러온다.\n",
    "print(files)\n",
    "\n",
    "#각 문서파일을 읽고\n",
    "for file in files:\n",
    "    f = open\n",
    "#텍스로파일로 저장한다.\n",
    "\n",
    "#docx 문서들을 모두 불러와서 한 문서로 합친다.\n",
    "\n",
    "    with open(file, \"a\", encoding='UTF8') as f:\n",
    "        f.write()\n"
   ]
  },
  {
   "cell_type": "code",
   "execution_count": null,
   "metadata": {},
   "outputs": [],
   "source": [
    "#docx 문서들을 모두 불러와서 한 문서로 합친다.\n",
    "files = glob.glob(\"data/UniversityMajor/01_Harvard/*.docx\")\n",
    "for file in files:\n",
    "    with open(file, \"a\", encoding='UTF8') as f:\n",
    "        convf = docx2txt.process(f)\n",
    "        convf.write(\"data/UniversityMajor/01_Harvard/HarvardEssayses.txt\", \"a\", encoding='UTF8')"
   ]
  },
  {
   "cell_type": "code",
   "execution_count": null,
   "metadata": {},
   "outputs": [],
   "source": [
    "from nltk.corpus import inaugural\n",
    "from wordcloud import WordCloud\n",
    "import matplotlib.pyplot as plt\n",
    "\n",
    "text = inaugural.raw()\n",
    "\n",
    "wordcloud = WordCloud(max_font_size=60).generate(text)\n",
    "\n",
    "plt.figure(figsize=(12,9))\n",
    "\n",
    "plt.imshow(wordcloud, interpolation=\"bilinear\")\n",
    "plt.axis(\"off\")\n",
    "plt.show()"
   ]
  }
 ],
 "metadata": {
  "kernelspec": {
   "display_name": "Python 3",
   "language": "python",
   "name": "python3"
  },
  "language_info": {
   "codemirror_mode": {
    "name": "ipython",
    "version": 3
   },
   "file_extension": ".py",
   "mimetype": "text/x-python",
   "name": "python",
   "nbconvert_exporter": "python",
   "pygments_lexer": "ipython3",
   "version": "3.6.10"
  }
 },
 "nbformat": 4,
 "nbformat_minor": 2
}
